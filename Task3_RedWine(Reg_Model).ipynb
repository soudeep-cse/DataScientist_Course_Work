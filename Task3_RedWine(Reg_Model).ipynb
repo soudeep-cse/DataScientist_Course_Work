{
  "nbformat": 4,
  "nbformat_minor": 0,
  "metadata": {
    "colab": {
      "provenance": [],
      "authorship_tag": "ABX9TyPImDDQDKj1Rpn4NmeYltah",
      "include_colab_link": true
    },
    "kernelspec": {
      "name": "python3",
      "display_name": "Python 3"
    },
    "language_info": {
      "name": "python"
    }
  },
  "cells": [
    {
      "cell_type": "markdown",
      "metadata": {
        "id": "view-in-github",
        "colab_type": "text"
      },
      "source": [
        "<a href=\"https://colab.research.google.com/github/soudeep-web/DataScientist_Course_Work/blob/main/Task3_RedWine(Reg_Model).ipynb\" target=\"_parent\"><img src=\"https://colab.research.google.com/assets/colab-badge.svg\" alt=\"Open In Colab\"/></a>"
      ]
    },
    {
      "cell_type": "code",
      "execution_count": null,
      "metadata": {
        "id": "NlnR7riRoeyG"
      },
      "outputs": [],
      "source": [
        "import pandas as pd\n",
        "import numpy as np\n",
        "import matplotlib.pyplot as plt\n",
        "import seaborn as sns"
      ]
    },
    {
      "cell_type": "code",
      "source": [
        "data = pd.read_csv(\"/content/winequality-red.csv\")\n",
        "data"
      ],
      "metadata": {
        "colab": {
          "base_uri": "https://localhost:8080/",
          "height": 478
        },
        "id": "5VdfGkejorwe",
        "outputId": "43ef731f-343a-4053-bde2-353dfeed2cff"
      },
      "execution_count": null,
      "outputs": [
        {
          "output_type": "execute_result",
          "data": {
            "text/plain": [
              "      fixed acidity  volatile acidity  citric acid  residual sugar  chlorides  \\\n",
              "0               7.4             0.700         0.00             1.9      0.076   \n",
              "1               7.8             0.880         0.00             2.6      0.098   \n",
              "2               7.8             0.760         0.04             2.3      0.092   \n",
              "3              11.2             0.280         0.56             1.9      0.075   \n",
              "4               7.4             0.700         0.00             1.9      0.076   \n",
              "...             ...               ...          ...             ...        ...   \n",
              "1594            6.2             0.600         0.08             2.0      0.090   \n",
              "1595            5.9             0.550         0.10             2.2      0.062   \n",
              "1596            6.3             0.510         0.13             2.3      0.076   \n",
              "1597            5.9             0.645         0.12             2.0      0.075   \n",
              "1598            6.0             0.310         0.47             3.6      0.067   \n",
              "\n",
              "      free sulfur dioxide  total sulfur dioxide  density    pH  sulphates  \\\n",
              "0                    11.0                  34.0  0.99780  3.51       0.56   \n",
              "1                    25.0                  67.0  0.99680  3.20       0.68   \n",
              "2                    15.0                  54.0  0.99700  3.26       0.65   \n",
              "3                    17.0                  60.0  0.99800  3.16       0.58   \n",
              "4                    11.0                  34.0  0.99780  3.51       0.56   \n",
              "...                   ...                   ...      ...   ...        ...   \n",
              "1594                 32.0                  44.0  0.99490  3.45       0.58   \n",
              "1595                 39.0                  51.0  0.99512  3.52       0.76   \n",
              "1596                 29.0                  40.0  0.99574  3.42       0.75   \n",
              "1597                 32.0                  44.0  0.99547  3.57       0.71   \n",
              "1598                 18.0                  42.0  0.99549  3.39       0.66   \n",
              "\n",
              "      alcohol  quality  \n",
              "0         9.4        5  \n",
              "1         9.8        5  \n",
              "2         9.8        5  \n",
              "3         9.8        6  \n",
              "4         9.4        5  \n",
              "...       ...      ...  \n",
              "1594     10.5        5  \n",
              "1595     11.2        6  \n",
              "1596     11.0        6  \n",
              "1597     10.2        5  \n",
              "1598     11.0        6  \n",
              "\n",
              "[1599 rows x 12 columns]"
            ],
            "text/html": [
              "\n",
              "  <div id=\"df-127b2ad4-952c-46c3-bde1-97a9572490af\" class=\"colab-df-container\">\n",
              "    <div>\n",
              "<style scoped>\n",
              "    .dataframe tbody tr th:only-of-type {\n",
              "        vertical-align: middle;\n",
              "    }\n",
              "\n",
              "    .dataframe tbody tr th {\n",
              "        vertical-align: top;\n",
              "    }\n",
              "\n",
              "    .dataframe thead th {\n",
              "        text-align: right;\n",
              "    }\n",
              "</style>\n",
              "<table border=\"1\" class=\"dataframe\">\n",
              "  <thead>\n",
              "    <tr style=\"text-align: right;\">\n",
              "      <th></th>\n",
              "      <th>fixed acidity</th>\n",
              "      <th>volatile acidity</th>\n",
              "      <th>citric acid</th>\n",
              "      <th>residual sugar</th>\n",
              "      <th>chlorides</th>\n",
              "      <th>free sulfur dioxide</th>\n",
              "      <th>total sulfur dioxide</th>\n",
              "      <th>density</th>\n",
              "      <th>pH</th>\n",
              "      <th>sulphates</th>\n",
              "      <th>alcohol</th>\n",
              "      <th>quality</th>\n",
              "    </tr>\n",
              "  </thead>\n",
              "  <tbody>\n",
              "    <tr>\n",
              "      <th>0</th>\n",
              "      <td>7.4</td>\n",
              "      <td>0.700</td>\n",
              "      <td>0.00</td>\n",
              "      <td>1.9</td>\n",
              "      <td>0.076</td>\n",
              "      <td>11.0</td>\n",
              "      <td>34.0</td>\n",
              "      <td>0.99780</td>\n",
              "      <td>3.51</td>\n",
              "      <td>0.56</td>\n",
              "      <td>9.4</td>\n",
              "      <td>5</td>\n",
              "    </tr>\n",
              "    <tr>\n",
              "      <th>1</th>\n",
              "      <td>7.8</td>\n",
              "      <td>0.880</td>\n",
              "      <td>0.00</td>\n",
              "      <td>2.6</td>\n",
              "      <td>0.098</td>\n",
              "      <td>25.0</td>\n",
              "      <td>67.0</td>\n",
              "      <td>0.99680</td>\n",
              "      <td>3.20</td>\n",
              "      <td>0.68</td>\n",
              "      <td>9.8</td>\n",
              "      <td>5</td>\n",
              "    </tr>\n",
              "    <tr>\n",
              "      <th>2</th>\n",
              "      <td>7.8</td>\n",
              "      <td>0.760</td>\n",
              "      <td>0.04</td>\n",
              "      <td>2.3</td>\n",
              "      <td>0.092</td>\n",
              "      <td>15.0</td>\n",
              "      <td>54.0</td>\n",
              "      <td>0.99700</td>\n",
              "      <td>3.26</td>\n",
              "      <td>0.65</td>\n",
              "      <td>9.8</td>\n",
              "      <td>5</td>\n",
              "    </tr>\n",
              "    <tr>\n",
              "      <th>3</th>\n",
              "      <td>11.2</td>\n",
              "      <td>0.280</td>\n",
              "      <td>0.56</td>\n",
              "      <td>1.9</td>\n",
              "      <td>0.075</td>\n",
              "      <td>17.0</td>\n",
              "      <td>60.0</td>\n",
              "      <td>0.99800</td>\n",
              "      <td>3.16</td>\n",
              "      <td>0.58</td>\n",
              "      <td>9.8</td>\n",
              "      <td>6</td>\n",
              "    </tr>\n",
              "    <tr>\n",
              "      <th>4</th>\n",
              "      <td>7.4</td>\n",
              "      <td>0.700</td>\n",
              "      <td>0.00</td>\n",
              "      <td>1.9</td>\n",
              "      <td>0.076</td>\n",
              "      <td>11.0</td>\n",
              "      <td>34.0</td>\n",
              "      <td>0.99780</td>\n",
              "      <td>3.51</td>\n",
              "      <td>0.56</td>\n",
              "      <td>9.4</td>\n",
              "      <td>5</td>\n",
              "    </tr>\n",
              "    <tr>\n",
              "      <th>...</th>\n",
              "      <td>...</td>\n",
              "      <td>...</td>\n",
              "      <td>...</td>\n",
              "      <td>...</td>\n",
              "      <td>...</td>\n",
              "      <td>...</td>\n",
              "      <td>...</td>\n",
              "      <td>...</td>\n",
              "      <td>...</td>\n",
              "      <td>...</td>\n",
              "      <td>...</td>\n",
              "      <td>...</td>\n",
              "    </tr>\n",
              "    <tr>\n",
              "      <th>1594</th>\n",
              "      <td>6.2</td>\n",
              "      <td>0.600</td>\n",
              "      <td>0.08</td>\n",
              "      <td>2.0</td>\n",
              "      <td>0.090</td>\n",
              "      <td>32.0</td>\n",
              "      <td>44.0</td>\n",
              "      <td>0.99490</td>\n",
              "      <td>3.45</td>\n",
              "      <td>0.58</td>\n",
              "      <td>10.5</td>\n",
              "      <td>5</td>\n",
              "    </tr>\n",
              "    <tr>\n",
              "      <th>1595</th>\n",
              "      <td>5.9</td>\n",
              "      <td>0.550</td>\n",
              "      <td>0.10</td>\n",
              "      <td>2.2</td>\n",
              "      <td>0.062</td>\n",
              "      <td>39.0</td>\n",
              "      <td>51.0</td>\n",
              "      <td>0.99512</td>\n",
              "      <td>3.52</td>\n",
              "      <td>0.76</td>\n",
              "      <td>11.2</td>\n",
              "      <td>6</td>\n",
              "    </tr>\n",
              "    <tr>\n",
              "      <th>1596</th>\n",
              "      <td>6.3</td>\n",
              "      <td>0.510</td>\n",
              "      <td>0.13</td>\n",
              "      <td>2.3</td>\n",
              "      <td>0.076</td>\n",
              "      <td>29.0</td>\n",
              "      <td>40.0</td>\n",
              "      <td>0.99574</td>\n",
              "      <td>3.42</td>\n",
              "      <td>0.75</td>\n",
              "      <td>11.0</td>\n",
              "      <td>6</td>\n",
              "    </tr>\n",
              "    <tr>\n",
              "      <th>1597</th>\n",
              "      <td>5.9</td>\n",
              "      <td>0.645</td>\n",
              "      <td>0.12</td>\n",
              "      <td>2.0</td>\n",
              "      <td>0.075</td>\n",
              "      <td>32.0</td>\n",
              "      <td>44.0</td>\n",
              "      <td>0.99547</td>\n",
              "      <td>3.57</td>\n",
              "      <td>0.71</td>\n",
              "      <td>10.2</td>\n",
              "      <td>5</td>\n",
              "    </tr>\n",
              "    <tr>\n",
              "      <th>1598</th>\n",
              "      <td>6.0</td>\n",
              "      <td>0.310</td>\n",
              "      <td>0.47</td>\n",
              "      <td>3.6</td>\n",
              "      <td>0.067</td>\n",
              "      <td>18.0</td>\n",
              "      <td>42.0</td>\n",
              "      <td>0.99549</td>\n",
              "      <td>3.39</td>\n",
              "      <td>0.66</td>\n",
              "      <td>11.0</td>\n",
              "      <td>6</td>\n",
              "    </tr>\n",
              "  </tbody>\n",
              "</table>\n",
              "<p>1599 rows × 12 columns</p>\n",
              "</div>\n",
              "    <div class=\"colab-df-buttons\">\n",
              "\n",
              "  <div class=\"colab-df-container\">\n",
              "    <button class=\"colab-df-convert\" onclick=\"convertToInteractive('df-127b2ad4-952c-46c3-bde1-97a9572490af')\"\n",
              "            title=\"Convert this dataframe to an interactive table.\"\n",
              "            style=\"display:none;\">\n",
              "\n",
              "  <svg xmlns=\"http://www.w3.org/2000/svg\" height=\"24px\" viewBox=\"0 -960 960 960\">\n",
              "    <path d=\"M120-120v-720h720v720H120Zm60-500h600v-160H180v160Zm220 220h160v-160H400v160Zm0 220h160v-160H400v160ZM180-400h160v-160H180v160Zm440 0h160v-160H620v160ZM180-180h160v-160H180v160Zm440 0h160v-160H620v160Z\"/>\n",
              "  </svg>\n",
              "    </button>\n",
              "\n",
              "  <style>\n",
              "    .colab-df-container {\n",
              "      display:flex;\n",
              "      gap: 12px;\n",
              "    }\n",
              "\n",
              "    .colab-df-convert {\n",
              "      background-color: #E8F0FE;\n",
              "      border: none;\n",
              "      border-radius: 50%;\n",
              "      cursor: pointer;\n",
              "      display: none;\n",
              "      fill: #1967D2;\n",
              "      height: 32px;\n",
              "      padding: 0 0 0 0;\n",
              "      width: 32px;\n",
              "    }\n",
              "\n",
              "    .colab-df-convert:hover {\n",
              "      background-color: #E2EBFA;\n",
              "      box-shadow: 0px 1px 2px rgba(60, 64, 67, 0.3), 0px 1px 3px 1px rgba(60, 64, 67, 0.15);\n",
              "      fill: #174EA6;\n",
              "    }\n",
              "\n",
              "    .colab-df-buttons div {\n",
              "      margin-bottom: 4px;\n",
              "    }\n",
              "\n",
              "    [theme=dark] .colab-df-convert {\n",
              "      background-color: #3B4455;\n",
              "      fill: #D2E3FC;\n",
              "    }\n",
              "\n",
              "    [theme=dark] .colab-df-convert:hover {\n",
              "      background-color: #434B5C;\n",
              "      box-shadow: 0px 1px 3px 1px rgba(0, 0, 0, 0.15);\n",
              "      filter: drop-shadow(0px 1px 2px rgba(0, 0, 0, 0.3));\n",
              "      fill: #FFFFFF;\n",
              "    }\n",
              "  </style>\n",
              "\n",
              "    <script>\n",
              "      const buttonEl =\n",
              "        document.querySelector('#df-127b2ad4-952c-46c3-bde1-97a9572490af button.colab-df-convert');\n",
              "      buttonEl.style.display =\n",
              "        google.colab.kernel.accessAllowed ? 'block' : 'none';\n",
              "\n",
              "      async function convertToInteractive(key) {\n",
              "        const element = document.querySelector('#df-127b2ad4-952c-46c3-bde1-97a9572490af');\n",
              "        const dataTable =\n",
              "          await google.colab.kernel.invokeFunction('convertToInteractive',\n",
              "                                                    [key], {});\n",
              "        if (!dataTable) return;\n",
              "\n",
              "        const docLinkHtml = 'Like what you see? Visit the ' +\n",
              "          '<a target=\"_blank\" href=https://colab.research.google.com/notebooks/data_table.ipynb>data table notebook</a>'\n",
              "          + ' to learn more about interactive tables.';\n",
              "        element.innerHTML = '';\n",
              "        dataTable['output_type'] = 'display_data';\n",
              "        await google.colab.output.renderOutput(dataTable, element);\n",
              "        const docLink = document.createElement('div');\n",
              "        docLink.innerHTML = docLinkHtml;\n",
              "        element.appendChild(docLink);\n",
              "      }\n",
              "    </script>\n",
              "  </div>\n",
              "\n",
              "\n",
              "<div id=\"df-672664bf-4fa7-4a2a-868e-a62ddb989cc2\">\n",
              "  <button class=\"colab-df-quickchart\" onclick=\"quickchart('df-672664bf-4fa7-4a2a-868e-a62ddb989cc2')\"\n",
              "            title=\"Suggest charts.\"\n",
              "            style=\"display:none;\">\n",
              "\n",
              "<svg xmlns=\"http://www.w3.org/2000/svg\" height=\"24px\"viewBox=\"0 0 24 24\"\n",
              "     width=\"24px\">\n",
              "    <g>\n",
              "        <path d=\"M19 3H5c-1.1 0-2 .9-2 2v14c0 1.1.9 2 2 2h14c1.1 0 2-.9 2-2V5c0-1.1-.9-2-2-2zM9 17H7v-7h2v7zm4 0h-2V7h2v10zm4 0h-2v-4h2v4z\"/>\n",
              "    </g>\n",
              "</svg>\n",
              "  </button>\n",
              "\n",
              "<style>\n",
              "  .colab-df-quickchart {\n",
              "      --bg-color: #E8F0FE;\n",
              "      --fill-color: #1967D2;\n",
              "      --hover-bg-color: #E2EBFA;\n",
              "      --hover-fill-color: #174EA6;\n",
              "      --disabled-fill-color: #AAA;\n",
              "      --disabled-bg-color: #DDD;\n",
              "  }\n",
              "\n",
              "  [theme=dark] .colab-df-quickchart {\n",
              "      --bg-color: #3B4455;\n",
              "      --fill-color: #D2E3FC;\n",
              "      --hover-bg-color: #434B5C;\n",
              "      --hover-fill-color: #FFFFFF;\n",
              "      --disabled-bg-color: #3B4455;\n",
              "      --disabled-fill-color: #666;\n",
              "  }\n",
              "\n",
              "  .colab-df-quickchart {\n",
              "    background-color: var(--bg-color);\n",
              "    border: none;\n",
              "    border-radius: 50%;\n",
              "    cursor: pointer;\n",
              "    display: none;\n",
              "    fill: var(--fill-color);\n",
              "    height: 32px;\n",
              "    padding: 0;\n",
              "    width: 32px;\n",
              "  }\n",
              "\n",
              "  .colab-df-quickchart:hover {\n",
              "    background-color: var(--hover-bg-color);\n",
              "    box-shadow: 0 1px 2px rgba(60, 64, 67, 0.3), 0 1px 3px 1px rgba(60, 64, 67, 0.15);\n",
              "    fill: var(--button-hover-fill-color);\n",
              "  }\n",
              "\n",
              "  .colab-df-quickchart-complete:disabled,\n",
              "  .colab-df-quickchart-complete:disabled:hover {\n",
              "    background-color: var(--disabled-bg-color);\n",
              "    fill: var(--disabled-fill-color);\n",
              "    box-shadow: none;\n",
              "  }\n",
              "\n",
              "  .colab-df-spinner {\n",
              "    border: 2px solid var(--fill-color);\n",
              "    border-color: transparent;\n",
              "    border-bottom-color: var(--fill-color);\n",
              "    animation:\n",
              "      spin 1s steps(1) infinite;\n",
              "  }\n",
              "\n",
              "  @keyframes spin {\n",
              "    0% {\n",
              "      border-color: transparent;\n",
              "      border-bottom-color: var(--fill-color);\n",
              "      border-left-color: var(--fill-color);\n",
              "    }\n",
              "    20% {\n",
              "      border-color: transparent;\n",
              "      border-left-color: var(--fill-color);\n",
              "      border-top-color: var(--fill-color);\n",
              "    }\n",
              "    30% {\n",
              "      border-color: transparent;\n",
              "      border-left-color: var(--fill-color);\n",
              "      border-top-color: var(--fill-color);\n",
              "      border-right-color: var(--fill-color);\n",
              "    }\n",
              "    40% {\n",
              "      border-color: transparent;\n",
              "      border-right-color: var(--fill-color);\n",
              "      border-top-color: var(--fill-color);\n",
              "    }\n",
              "    60% {\n",
              "      border-color: transparent;\n",
              "      border-right-color: var(--fill-color);\n",
              "    }\n",
              "    80% {\n",
              "      border-color: transparent;\n",
              "      border-right-color: var(--fill-color);\n",
              "      border-bottom-color: var(--fill-color);\n",
              "    }\n",
              "    90% {\n",
              "      border-color: transparent;\n",
              "      border-bottom-color: var(--fill-color);\n",
              "    }\n",
              "  }\n",
              "</style>\n",
              "\n",
              "  <script>\n",
              "    async function quickchart(key) {\n",
              "      const quickchartButtonEl =\n",
              "        document.querySelector('#' + key + ' button');\n",
              "      quickchartButtonEl.disabled = true;  // To prevent multiple clicks.\n",
              "      quickchartButtonEl.classList.add('colab-df-spinner');\n",
              "      try {\n",
              "        const charts = await google.colab.kernel.invokeFunction(\n",
              "            'suggestCharts', [key], {});\n",
              "      } catch (error) {\n",
              "        console.error('Error during call to suggestCharts:', error);\n",
              "      }\n",
              "      quickchartButtonEl.classList.remove('colab-df-spinner');\n",
              "      quickchartButtonEl.classList.add('colab-df-quickchart-complete');\n",
              "    }\n",
              "    (() => {\n",
              "      let quickchartButtonEl =\n",
              "        document.querySelector('#df-672664bf-4fa7-4a2a-868e-a62ddb989cc2 button');\n",
              "      quickchartButtonEl.style.display =\n",
              "        google.colab.kernel.accessAllowed ? 'block' : 'none';\n",
              "    })();\n",
              "  </script>\n",
              "</div>\n",
              "    </div>\n",
              "  </div>\n"
            ]
          },
          "metadata": {},
          "execution_count": 5
        }
      ]
    },
    {
      "cell_type": "code",
      "source": [
        "data.isnull()"
      ],
      "metadata": {
        "id": "9NMXEMobo7cH"
      },
      "execution_count": null,
      "outputs": []
    },
    {
      "cell_type": "code",
      "source": [
        "print(data.duplicated())"
      ],
      "metadata": {
        "id": "gSYWO57vo7fF"
      },
      "execution_count": null,
      "outputs": []
    },
    {
      "cell_type": "code",
      "source": [
        "#Remove duplicate\n",
        "data.drop_duplicates(inplace=True)"
      ],
      "metadata": {
        "id": "uZgnSGUko7hp"
      },
      "execution_count": null,
      "outputs": []
    },
    {
      "cell_type": "code",
      "source": [
        "print(data.duplicated())"
      ],
      "metadata": {
        "id": "7QHwEXayo7m8"
      },
      "execution_count": null,
      "outputs": []
    },
    {
      "cell_type": "code",
      "source": [
        "#Corrrelation\n",
        "sns.heatmap(data.corr(), annot=True)"
      ],
      "metadata": {
        "id": "-RTwbCWCo7pe",
        "colab": {
          "base_uri": "https://localhost:8080/",
          "height": 569
        },
        "outputId": "c61dc64b-8c01-4152-d2fb-6f03ce141b5f"
      },
      "execution_count": null,
      "outputs": [
        {
          "output_type": "execute_result",
          "data": {
            "text/plain": [
              "<Axes: >"
            ]
          },
          "metadata": {},
          "execution_count": 77
        },
        {
          "output_type": "display_data",
          "data": {
            "text/plain": [
              "<Figure size 640x480 with 2 Axes>"
            ],
            "image/png": "[encoded data removed]"
          },
          "metadata": {}
        }
      ]
    },
    {
      "cell_type": "code",
      "source": [
        "#Boxplot\n",
        "plt.boxplot(data[\"fixed acidity\"])\n",
        "plt.title(\"Before removing outliers\")\n",
        "plt.show()\n"
      ],
      "metadata": {
        "id": "iRb8raG2vTin"
      },
      "execution_count": null,
      "outputs": []
    },
    {
      "cell_type": "code",
      "source": [
        "plt.boxplot(data[\"free sulfur dioxide\"])\n",
        "plt.title(\"Before removing outliers\")\n",
        "plt.show()"
      ],
      "metadata": {
        "id": "IRJ-XUssvTl7"
      },
      "execution_count": null,
      "outputs": []
    },
    {
      "cell_type": "code",
      "source": [
        "#Outliers\n",
        "# 1. Fixed Acidity\n",
        "Q1_facidity = np.percentile(data[\"fixed acidity\"],25)\n",
        "Q3_facidity = np.percentile(data[\"fixed acidity\"],75)\n",
        "IQR_facidity = Q3_facidity - Q1_facidity\n",
        "Upper_facidity = Q3_facidity + 1.5 * IQR_facidity\n",
        "Lower_facidity = Q1_facidity - 1.5 * IQR_facidity\n",
        "fixed=\"fixed acidity\"\n",
        "\n",
        "\n",
        "# 2. Volatile Acidity\n",
        "Q1_vacidity = np.percentile(data[\"volatile acidity\"],25)\n",
        "Q3_vacidity = np.percentile(data[\"volatile acidity\"],75)\n",
        "IQR_vacidity = Q3_vacidity - Q1_vacidity\n",
        "Upper_vacidity = Q3_vacidity + 1.5 * IQR_vacidity\n",
        "Lower_vacidity = Q1_vacidity - 1.5 * IQR_vacidity\n",
        "volatile=\"volatile acidity\"\n",
        "\n",
        "# 3. Citric Acid\n",
        "Q1_acid = np.percentile(data[\"citric acid\"],25)\n",
        "Q3_acid = np.percentile(data[\"citric acid\"],75)\n",
        "IQR_acid = Q3_acid - Q1_acid\n",
        "Upper_acid = Q3_acid + 1.5 * IQR_acid\n",
        "Lower_acid = Q1_acid - 1.5 * IQR_acid\n",
        "citric=\"citric acid\"\n",
        "\n",
        "# 4. Residual Sugar\n",
        "Q1_sugar = np.percentile(data[\"residual sugar\"],25)\n",
        "Q3_sugar = np.percentile(data[\"residual sugar\"],75)\n",
        "IQR_sugar = Q3_sugar - Q1_sugar\n",
        "Upper_sugar = Q3_sugar + 1.5 * IQR_sugar\n",
        "Lower_sugar = Q1_sugar - 1.5 * IQR_sugar\n",
        "sugar=\"residual sugar\"\n",
        "\n",
        "# 5. Clorides\n",
        "Q1_clorides = np.percentile(data[\"chlorides\"],25)\n",
        "Q3_clorides = np.percentile(data[\"chlorides\"],75)\n",
        "IQR_clorides = Q3_clorides - Q1_clorides\n",
        "Upper_clorides = Q3_clorides + 1.5 * IQR_clorides\n",
        "Lower_clorides = Q1_clorides - 1.5 * IQR_clorides\n",
        "cloride=\"chlorides\"\n",
        "\n",
        "# 6. Free Sulfur Dioxide\n",
        "Q1_fsulfer = np.percentile(data[\"free sulfur dioxide\"],25)\n",
        "Q3_fsulfer = np.percentile(data[\"free sulfur dioxide\"],75)\n",
        "IQR_fsulfer = Q3_fsulfer - Q1_fsulfer\n",
        "Upper_fsulfer = Q3_fsulfer + 1.5 * IQR_fsulfer\n",
        "Lower_fsulfer = Q1_fsulfer - 1.5 * IQR_fsulfer\n",
        "free=\"free sulfur dioxide\"\n",
        "\n",
        "# 7. Total Sulfur Dioxide\n",
        "Q1_tsulfer = np.percentile(data[\"total sulfur dioxide\"],25)\n",
        "Q3_tsulfer = np.percentile(data[\"total sulfur dioxide\"],75)\n",
        "IQR_tsulfer = Q3_tsulfer - Q1_tsulfer\n",
        "Upper_tsulfer = Q3_tsulfer + 1.5 * IQR_tsulfer\n",
        "Lower_tsulfer = Q1_tsulfer - 1.5 * IQR_tsulfer\n",
        "total=\"total sulfur dioxide\"\n",
        "\n",
        "\n",
        "# 8. Density\n",
        "Q1_density = np.percentile(data[\"density\"],25)\n",
        "Q3_density = np.percentile(data[\"density\"],75)\n",
        "IQR_density = Q3_density - Q1_density\n",
        "Upper_density = Q3_density + 1.5 * IQR_density\n",
        "Lower_density = Q1_density - 1.5 * IQR_density\n",
        "density=\"density\"\n",
        "\n",
        "# 9. pH\n",
        "Q1_pH = np.percentile(data[\"pH\"],25)\n",
        "Q3_pH = np.percentile(data[\"pH\"],75)\n",
        "IQR_pH = Q3_pH - Q1_pH\n",
        "Upper_pH = Q3_pH + 1.5 * IQR_pH\n",
        "Lower_pH = Q1_pH - 1.5 * IQR_pH\n",
        "ph=\"pH\"\n",
        "\n",
        "# 10. sulphates\n",
        "Q1_sulphates = np.percentile(data[\"sulphates\"],25)\n",
        "Q3_sulphates = np.percentile(data[\"sulphates\"],75)\n",
        "IQR_sulphates = Q3_sulphates - Q1_sulphates\n",
        "Upper_sulphates = Q3_sulphates + 1.5 * IQR_sulphates\n",
        "Lower_sulphates = Q1_sulphates - 1.5 * IQR_sulphates\n",
        "sulphate=\"sulphates\"\n",
        "\n",
        "# 11. alcohol\n",
        "Q1_alcohol = np.percentile(data[\"alcohol\"],25)\n",
        "Q3_alcohol = np.percentile(data[\"alcohol\"],75)\n",
        "IQR_alcohol = Q3_alcohol - Q1_alcohol\n",
        "Upper_alcohol = Q3_alcohol + 1.5 * IQR_alcohol\n",
        "Lower_alcohol = Q1_alcohol - 1.5 * IQR_alcohol\n",
        "alcohol=\"alcohol\""
      ],
      "metadata": {
        "id": "_lNlVA3ouexf"
      },
      "execution_count": null,
      "outputs": []
    },
    {
      "cell_type": "code",
      "source": [
        "#Identify Outliers:\n",
        "# 1. Fixed Acidity\n",
        "Outliers_facidity_indices = data[(data[fixed]<Lower_facidity) | (data[fixed]>Upper_facidity)].index\n",
        "print(Outliers_facidity_indices)\n",
        "\n",
        "print(\"\\n\")\n",
        "\n",
        "\n",
        "# 2. Volatile Acidity\n",
        "Outliers_vacidity_indices = data[(data[volatile]<Lower_vacidity) | (data[volatile]>Upper_vacidity)].index\n",
        "print(Outliers_vacidity_indices)\n",
        "\n",
        "print(\"\\n\")\n",
        "\n",
        "# 3. Citric Acid\n",
        "Outliers_citric_indices = data[(data[citric]<Lower_acid) | (data[citric]>Upper_acid)].index\n",
        "print(Outliers_citric_indices)\n",
        "\n",
        "print(\"\\n\")\n",
        "\n",
        "# 4.  Residual Sugar\n",
        "Outliers_sugar_indices = data[(data[sugar]<Lower_sugar) | (data[sugar]>Upper_sugar)].index\n",
        "print(Outliers_sugar_indices)\n",
        "\n",
        "print(\"\\n\")\n",
        "\n",
        "# 5. Clorides\n",
        "Outliers_cloride_indices = data[(data[cloride]<Lower_clorides) | (data[cloride]>Upper_clorides)].index\n",
        "print(Outliers_cloride_indices)\n",
        "\n",
        "print(\"\\n\")\n",
        "\n",
        "# 6. Free Sulfur Dioxide\n",
        "Outliers_free_indices = data[(data[free]<Lower_fsulfer) | (data[free]>Upper_fsulfer)].index\n",
        "print(Outliers_free_indices)\n",
        "\n",
        "print(\"\\n\")\n",
        "\n",
        "# 7. Total Sulfur Dioxide\n",
        "Outliers_total_indices = data[(data[total]<Lower_tsulfer) | (data[total]>Upper_tsulfer)].index\n",
        "print(Outliers_total_indices)\n",
        "\n",
        "print(\"\\n\")\n",
        "\n",
        "# 8. Density\n",
        "Outliers_density_indices = data[(data[density]<Lower_density) | (data[density]>Upper_density)].index\n",
        "print(Outliers_density_indices)\n",
        "\n",
        "print(\"\\n\")\n",
        "\n",
        "# 9. pH\n",
        "Outliers_ph_indices = data[(data[ph]<Lower_pH) | (data[ph]>Upper_pH)].index\n",
        "print(Outliers_ph_indices)\n",
        "\n",
        "print(\"\\n\")\n",
        "\n",
        "# 10. sulphates\n",
        "Outliers_sulphates_indices = data[(data[sulphate]<Lower_sulphates) | (data[sulphate]>Upper_sulphates)].index\n",
        "print(Outliers_sulphates_indices)\n",
        "\n",
        "print(\"\\n\")\n",
        "\n",
        "# 11. alcohol\n",
        "Outliers_alcohol_indices = data[(data[alcohol]<Lower_alcohol) | (data[alcohol]>Upper_alcohol)].index\n",
        "print(Outliers_alcohol_indices)\n",
        "\n",
        "print(\"\\n\")"
      ],
      "metadata": {
        "id": "Mh0KZLXque0V",
        "colab": {
          "base_uri": "https://localhost:8080/"
        },
        "outputId": "7418e063-ecc8-41eb-86f0-c1365cfed5d8"
      },
      "execution_count": null,
      "outputs": [
        {
          "output_type": "stream",
          "name": "stdout",
          "text": [
            "Int64Index([241, 286, 358, 362, 407, 432, 441, 449, 531, 583, 597, 657, 664,\n",
            "            937],\n",
            "           dtype='int64')\n",
            "\n",
            "\n",
            "Int64Index([1012], dtype='int64')\n",
            "\n",
            "\n",
            "Int64Index([], dtype='int64')\n",
            "\n",
            "\n",
            "Int64Index([267, 280, 593, 646, 731, 798, 978, 1008, 1598], dtype='int64')\n",
            "\n",
            "\n",
            "Int64Index([61, 342, 357, 806, 841, 962, 1009, 1152, 1178, 1316, 1321, 1365,\n",
            "            1578],\n",
            "           dtype='int64')\n",
            "\n",
            "\n",
            "Int64Index([345, 519, 562, 853, 1028, 1085, 1090, 1182, 1407, 1422, 1448, 1529,\n",
            "            1595],\n",
            "           dtype='int64')\n",
            "\n",
            "\n",
            "Int64Index([  16,   32,   61,   95,  111,  112,  138,  139,  230,  242,  311,\n",
            "             519,  545,  562,  577,  578,  620,  621,  711,  721,  738,  760,\n",
            "             967, 1382, 1389, 1397, 1572],\n",
            "           dtype='int64')\n",
            "\n",
            "\n",
            "Int64Index([1118], dtype='int64')\n",
            "\n",
            "\n",
            "Int64Index([45, 95, 268, 650, 657, 667, 930, 996, 1111, 1300, 1316, 1321, 1377,\n",
            "            1470, 1488],\n",
            "           dtype='int64')\n",
            "\n",
            "\n",
            "Int64Index([69, 110, 197, 245, 365, 617, 623, 802, 1407, 1429, 1516], dtype='int64')\n",
            "\n",
            "\n",
            "Int64Index([492], dtype='int64')\n",
            "\n",
            "\n"
          ]
        }
      ]
    },
    {
      "cell_type": "code",
      "source": [
        "# Remove Outliers\n",
        "# 1. Fixed Acidity\n",
        "remove_facidity = data.drop(Outliers_facidity_indices, inplace = True)\n",
        "print(remove_facidity)"
      ],
      "metadata": {
        "colab": {
          "base_uri": "https://localhost:8080/"
        },
        "id": "QANWZb2Pue2-",
        "outputId": "c025768b-365c-4a5f-8a8f-df5d56089b00"
      },
      "execution_count": null,
      "outputs": [
        {
          "output_type": "stream",
          "name": "stdout",
          "text": [
            "None\n"
          ]
        }
      ]
    },
    {
      "cell_type": "code",
      "source": [
        "# 2. Volatile Acidity\n",
        "remove_vacidity = data.drop(Outliers_vacidity_indices, inplace = True)\n",
        "print(remove_vacidity)"
      ],
      "metadata": {
        "colab": {
          "base_uri": "https://localhost:8080/"
        },
        "id": "l-3pZ4KR0r7F",
        "outputId": "67dc1b21-3340-4821-a08f-18b531cd4351"
      },
      "execution_count": null,
      "outputs": [
        {
          "output_type": "stream",
          "name": "stdout",
          "text": [
            "None\n"
          ]
        }
      ]
    },
    {
      "cell_type": "code",
      "source": [
        "# 3. Citric Acid\n",
        "remove_citric = data.drop(Outliers_citric_indices, inplace = True)\n",
        "print(remove_citric)"
      ],
      "metadata": {
        "colab": {
          "base_uri": "https://localhost:8080/"
        },
        "id": "jP55ll-V0sPW",
        "outputId": "d2350018-9704-4df0-b8e0-c3772f912dcb"
      },
      "execution_count": null,
      "outputs": [
        {
          "output_type": "stream",
          "name": "stdout",
          "text": [
            "None\n"
          ]
        }
      ]
    },
    {
      "cell_type": "code",
      "source": [
        "# 4.  Residual Sugar\n",
        "remove_sugar = data.drop(Outliers_sugar_indices, inplace = True)\n",
        "print(remove_sugar)"
      ],
      "metadata": {
        "colab": {
          "base_uri": "https://localhost:8080/"
        },
        "id": "d3p1QJY10sbC",
        "outputId": "6cc311b5-32c5-4299-82a8-5ea73abc211d"
      },
      "execution_count": null,
      "outputs": [
        {
          "output_type": "stream",
          "name": "stdout",
          "text": [
            "None\n"
          ]
        }
      ]
    },
    {
      "cell_type": "code",
      "source": [
        "# 5. Clorides\n",
        "remove_clorides = data.drop(Outliers_cloride_indices, inplace = True)\n",
        "print(remove_clorides)"
      ],
      "metadata": {
        "colab": {
          "base_uri": "https://localhost:8080/"
        },
        "id": "r2GCts0w0sk3",
        "outputId": "406a987c-49ca-47ff-eb1a-9f4aca662346"
      },
      "execution_count": null,
      "outputs": [
        {
          "output_type": "stream",
          "name": "stdout",
          "text": [
            "None\n"
          ]
        }
      ]
    },
    {
      "cell_type": "code",
      "source": [
        "# 6. Free Sulfur Dioxide\n",
        "remove_free = data.drop(Outliers_free_indices, inplace = True)\n",
        "print(remove_free)"
      ],
      "metadata": {
        "colab": {
          "base_uri": "https://localhost:8080/"
        },
        "id": "UKnUE8mTue9V",
        "outputId": "50ae975e-5f4d-436e-ddb9-73042986825f"
      },
      "execution_count": null,
      "outputs": [
        {
          "output_type": "stream",
          "name": "stdout",
          "text": [
            "None\n"
          ]
        }
      ]
    },
    {
      "cell_type": "code",
      "source": [
        "# 7. Total Sulfur Dioxide\n",
        "remove_total = data.drop(Outliers_total_indices, inplace = True)\n",
        "print(remove_total)"
      ],
      "metadata": {
        "colab": {
          "base_uri": "https://localhost:8080/"
        },
        "id": "67O-Q69801nx",
        "outputId": "1e8fb34a-fe01-4bcf-d027-73829f51ceae"
      },
      "execution_count": null,
      "outputs": [
        {
          "output_type": "stream",
          "name": "stdout",
          "text": [
            "None\n"
          ]
        }
      ]
    },
    {
      "cell_type": "code",
      "source": [
        "# 8. Density\n",
        "remove_density = data.drop(Outliers_density_indices, inplace = True)\n",
        "print(remove_density)"
      ],
      "metadata": {
        "colab": {
          "base_uri": "https://localhost:8080/"
        },
        "id": "811gresM01wR",
        "outputId": "0c7614ff-a32f-4796-d889-b76717feac77"
      },
      "execution_count": null,
      "outputs": [
        {
          "output_type": "stream",
          "name": "stdout",
          "text": [
            "None\n"
          ]
        }
      ]
    },
    {
      "cell_type": "code",
      "source": [
        "# 9. pH\n",
        "remove_ph = data.drop(Outliers_ph_indices, inplace = True)\n",
        "print(remove_ph)"
      ],
      "metadata": {
        "colab": {
          "base_uri": "https://localhost:8080/"
        },
        "id": "tggcI1Ux013P",
        "outputId": "e902b3d1-0e7c-4bdb-88c5-4372e31180cc"
      },
      "execution_count": null,
      "outputs": [
        {
          "output_type": "stream",
          "name": "stdout",
          "text": [
            "None\n"
          ]
        }
      ]
    },
    {
      "cell_type": "code",
      "source": [
        "# 10. sulphates\n",
        "remove_sulphate = data.drop(Outliers_sulphates_indices, inplace = True)\n",
        "print(remove_sulphate)"
      ],
      "metadata": {
        "colab": {
          "base_uri": "https://localhost:8080/"
        },
        "id": "epIA2wvm019l",
        "outputId": "6a6282a3-65e6-4abb-d303-9f1fb85ddc04"
      },
      "execution_count": null,
      "outputs": [
        {
          "output_type": "stream",
          "name": "stdout",
          "text": [
            "None\n"
          ]
        }
      ]
    },
    {
      "cell_type": "code",
      "source": [
        "# 11. alcohol\n",
        "remove_alcohol = data.drop(Outliers_alcohol_indices, inplace = True)\n",
        "print(remove_alcohol)"
      ],
      "metadata": {
        "colab": {
          "base_uri": "https://localhost:8080/"
        },
        "id": "yboSEOuX02FN",
        "outputId": "27f3724d-cd34-4ec3-e063-b616a2a491c4"
      },
      "execution_count": null,
      "outputs": [
        {
          "output_type": "stream",
          "name": "stdout",
          "text": [
            "None\n"
          ]
        }
      ]
    },
    {
      "cell_type": "code",
      "source": [
        "plt.boxplot(data[\"fixed acidity\"])\n",
        "plt.title(\"After removing outliers\")\n",
        "plt.show()"
      ],
      "metadata": {
        "colab": {
          "base_uri": "https://localhost:8080/",
          "height": 452
        },
        "id": "uewqMD1Wue_0",
        "outputId": "5c6055c8-067f-435e-f29a-a677efe8e4af"
      },
      "execution_count": null,
      "outputs": [
        {
          "output_type": "display_data",
          "data": {
            "text/plain": [
              "<Figure size 640x480 with 1 Axes>"
            ],
            "image/png": "[encoded data removed]"
          },
          "metadata": {}
        }
      ]
    },
    {
      "cell_type": "code",
      "source": [
        "plt.boxplot(data[\"free sulfur dioxide\"])\n",
        "plt.title(\"After removing outliers\")\n",
        "plt.show()"
      ],
      "metadata": {
        "id": "iXJ3LH1kvILK"
      },
      "execution_count": null,
      "outputs": []
    },
    {
      "cell_type": "code",
      "source": [
        "from sklearn.linear_model import LinearRegression\n",
        "from sklearn.model_selection import train_test_split"
      ],
      "metadata": {
        "id": "ChJxdmrerdhj"
      },
      "execution_count": null,
      "outputs": []
    },
    {
      "cell_type": "code",
      "source": [
        "X = data[[\"fixed acidity\",\"volatile acidity\",\"citric acid\",\"residual sugar\",\"chlorides\",\"free sulfur dioxide\",\"total sulfur dioxide\",\"density\",\"pH\",\"sulphates\"\t,\"alcohol\"]]\n",
        "y = data[\"quality\"]"
      ],
      "metadata": {
        "id": "gJxSYXnVrdkX"
      },
      "execution_count": null,
      "outputs": []
    },
    {
      "cell_type": "code",
      "source": [
        "X_train,X_test,y_train,y_test = train_test_split(X,y, test_size=.2, random_state=42)"
      ],
      "metadata": {
        "id": "7XMKNzj1rdnH"
      },
      "execution_count": null,
      "outputs": []
    },
    {
      "cell_type": "code",
      "source": [
        "model = LinearRegression()"
      ],
      "metadata": {
        "id": "X5bRSISvrdpw"
      },
      "execution_count": null,
      "outputs": []
    },
    {
      "cell_type": "code",
      "source": [
        "model.fit(X_train, y_train)"
      ],
      "metadata": {
        "colab": {
          "base_uri": "https://localhost:8080/",
          "height": 74
        },
        "id": "8hk3uNhOrdvS",
        "outputId": "3cd0c4f4-e4c7-42f6-ccd1-e5e89510fab3"
      },
      "execution_count": null,
      "outputs": [
        {
          "output_type": "execute_result",
          "data": {
            "text/plain": [
              "LinearRegression()"
            ],
            "text/html": [
              "<style>#sk-container-id-4 {color: black;background-color: white;}#sk-container-id-4 pre{padding: 0;}#sk-container-id-4 div.sk-toggleable {background-color: white;}#sk-container-id-4 label.sk-toggleable__label {cursor: pointer;display: block;width: 100%;margin-bottom: 0;padding: 0.3em;box-sizing: border-box;text-align: center;}#sk-container-id-4 label.sk-toggleable__label-arrow:before {content: \"▸\";float: left;margin-right: 0.25em;color: #696969;}#sk-container-id-4 label.sk-toggleable__label-arrow:hover:before {color: black;}#sk-container-id-4 div.sk-estimator:hover label.sk-toggleable__label-arrow:before {color: black;}#sk-container-id-4 div.sk-toggleable__content {max-height: 0;max-width: 0;overflow: hidden;text-align: left;background-color: #f0f8ff;}#sk-container-id-4 div.sk-toggleable__content pre {margin: 0.2em;color: black;border-radius: 0.25em;background-color: #f0f8ff;}#sk-container-id-4 input.sk-toggleable__control:checked~div.sk-toggleable__content {max-height: 200px;max-width: 100%;overflow: auto;}#sk-container-id-4 input.sk-toggleable__control:checked~label.sk-toggleable__label-arrow:before {content: \"▾\";}#sk-container-id-4 div.sk-estimator input.sk-toggleable__control:checked~label.sk-toggleable__label {background-color: #d4ebff;}#sk-container-id-4 div.sk-label input.sk-toggleable__control:checked~label.sk-toggleable__label {background-color: #d4ebff;}#sk-container-id-4 input.sk-hidden--visually {border: 0;clip: rect(1px 1px 1px 1px);clip: rect(1px, 1px, 1px, 1px);height: 1px;margin: -1px;overflow: hidden;padding: 0;position: absolute;width: 1px;}#sk-container-id-4 div.sk-estimator {font-family: monospace;background-color: #f0f8ff;border: 1px dotted black;border-radius: 0.25em;box-sizing: border-box;margin-bottom: 0.5em;}#sk-container-id-4 div.sk-estimator:hover {background-color: #d4ebff;}#sk-container-id-4 div.sk-parallel-item::after {content: \"\";width: 100%;border-bottom: 1px solid gray;flex-grow: 1;}#sk-container-id-4 div.sk-label:hover label.sk-toggleable__label {background-color: #d4ebff;}#sk-container-id-4 div.sk-serial::before {content: \"\";position: absolute;border-left: 1px solid gray;box-sizing: border-box;top: 0;bottom: 0;left: 50%;z-index: 0;}#sk-container-id-4 div.sk-serial {display: flex;flex-direction: column;align-items: center;background-color: white;padding-right: 0.2em;padding-left: 0.2em;position: relative;}#sk-container-id-4 div.sk-item {position: relative;z-index: 1;}#sk-container-id-4 div.sk-parallel {display: flex;align-items: stretch;justify-content: center;background-color: white;position: relative;}#sk-container-id-4 div.sk-item::before, #sk-container-id-4 div.sk-parallel-item::before {content: \"\";position: absolute;border-left: 1px solid gray;box-sizing: border-box;top: 0;bottom: 0;left: 50%;z-index: -1;}#sk-container-id-4 div.sk-parallel-item {display: flex;flex-direction: column;z-index: 1;position: relative;background-color: white;}#sk-container-id-4 div.sk-parallel-item:first-child::after {align-self: flex-end;width: 50%;}#sk-container-id-4 div.sk-parallel-item:last-child::after {align-self: flex-start;width: 50%;}#sk-container-id-4 div.sk-parallel-item:only-child::after {width: 0;}#sk-container-id-4 div.sk-dashed-wrapped {border: 1px dashed gray;margin: 0 0.4em 0.5em 0.4em;box-sizing: border-box;padding-bottom: 0.4em;background-color: white;}#sk-container-id-4 div.sk-label label {font-family: monospace;font-weight: bold;display: inline-block;line-height: 1.2em;}#sk-container-id-4 div.sk-label-container {text-align: center;}#sk-container-id-4 div.sk-container {/* jupyter's `normalize.less` sets `[hidden] { display: none; }` but bootstrap.min.css set `[hidden] { display: none !important; }` so we also need the `!important` here to be able to override the default hidden behavior on the sphinx rendered scikit-learn.org. See: https://github.com/scikit-learn/scikit-learn/issues/21755 */display: inline-block !important;position: relative;}#sk-container-id-4 div.sk-text-repr-fallback {display: none;}</style><div id=\"sk-container-id-4\" class=\"sk-top-container\"><div class=\"sk-text-repr-fallback\"><pre>LinearRegression()</pre><b>In a Jupyter environment, please rerun this cell to show the HTML representation or trust the notebook. <br />On GitHub, the HTML representation is unable to render, please try loading this page with nbviewer.org.</b></div><div class=\"sk-container\" hidden><div class=\"sk-item\"><div class=\"sk-estimator sk-toggleable\"><input class=\"sk-toggleable__control sk-hidden--visually\" id=\"sk-estimator-id-4\" type=\"checkbox\" checked><label for=\"sk-estimator-id-4\" class=\"sk-toggleable__label sk-toggleable__label-arrow\">LinearRegression</label><div class=\"sk-toggleable__content\"><pre>LinearRegression()</pre></div></div></div></div></div>"
            ]
          },
          "metadata": {},
          "execution_count": 145
        }
      ]
    },
    {
      "cell_type": "code",
      "source": [
        "model.intercept_"
      ],
      "metadata": {
        "colab": {
          "base_uri": "https://localhost:8080/"
        },
        "id": "4Ydd18gBrdyM",
        "outputId": "5bfaab7b-85b1-4838-b7f2-8d29e1744d92"
      },
      "execution_count": null,
      "outputs": [
        {
          "output_type": "execute_result",
          "data": {
            "text/plain": [
              "20.62678710179766"
            ]
          },
          "metadata": {},
          "execution_count": 146
        }
      ]
    },
    {
      "cell_type": "code",
      "source": [
        "model.coef_"
      ],
      "metadata": {
        "colab": {
          "base_uri": "https://localhost:8080/"
        },
        "id": "hl7bJb22rd0n",
        "outputId": "b3dc0713-a68e-4f04-880e-7c420dc0faec"
      },
      "execution_count": null,
      "outputs": [
        {
          "output_type": "execute_result",
          "data": {
            "text/plain": [
              "array([ 3.02230328e-02, -1.05313006e+00, -2.20020378e-01,  9.84436330e-03,\n",
              "       -1.88502742e+00,  4.20609838e-03, -2.57593910e-03, -1.67885758e+01,\n",
              "       -4.43781399e-01,  8.73899713e-01,  3.06007744e-01])"
            ]
          },
          "metadata": {},
          "execution_count": 147
        }
      ]
    },
    {
      "cell_type": "code",
      "source": [
        "#df = pd.DataFrame(model.coef_,X.columns ,columns[\"Any\"])"
      ],
      "metadata": {
        "id": "OwtdOPx0rd3b"
      },
      "execution_count": null,
      "outputs": []
    },
    {
      "cell_type": "code",
      "source": [
        "y_pred = model.predict(X_test)"
      ],
      "metadata": {
        "id": "YOyM8E7-s8E3"
      },
      "execution_count": null,
      "outputs": []
    },
    {
      "cell_type": "code",
      "source": [
        "new_data = [[12,-0.29,0.40,0.523,-0.1,0.096,-0.108,-0.325,-0.503,0.98,0.8]]"
      ],
      "metadata": {
        "id": "BHXYIMP8s8Hd"
      },
      "execution_count": null,
      "outputs": []
    },
    {
      "cell_type": "code",
      "source": [
        "model.predict(new_data)"
      ],
      "metadata": {
        "colab": {
          "base_uri": "https://localhost:8080/"
        },
        "id": "WcObIx3Is8J2",
        "outputId": "94800168-a512-4a11-de83-39abeb88868b"
      },
      "execution_count": null,
      "outputs": [
        {
          "output_type": "stream",
          "name": "stderr",
          "text": [
            "/usr/local/lib/python3.10/dist-packages/sklearn/base.py:439: UserWarning: X does not have valid feature names, but LinearRegression was fitted with feature names\n",
            "  warnings.warn(\n"
          ]
        },
        {
          "output_type": "execute_result",
          "data": {
            "text/plain": [
              "array([28.18193348])"
            ]
          },
          "metadata": {},
          "execution_count": 150
        }
      ]
    },
    {
      "cell_type": "code",
      "source": [
        "plt.scatter(y_test, y_pred)"
      ],
      "metadata": {
        "id": "H_zeFKjys8MH",
        "colab": {
          "base_uri": "https://localhost:8080/",
          "height": 447
        },
        "outputId": "a76aa522-2821-4930-e6b0-7385203de66e"
      },
      "execution_count": null,
      "outputs": [
        {
          "output_type": "execute_result",
          "data": {
            "text/plain": [
              "<matplotlib.collections.PathCollection at 0x7e8003025450>"
            ]
          },
          "metadata": {},
          "execution_count": 151
        },
        {
          "output_type": "display_data",
          "data": {
            "text/plain": [
              "<Figure size 640x480 with 1 Axes>"
            ],
            "image/png": "[encoded data removed]"
          },
          "metadata": {}
        }
      ]
    },
    {
      "cell_type": "code",
      "source": [
        "from sklearn import metrics"
      ],
      "metadata": {
        "id": "OdWziaRks8O5"
      },
      "execution_count": null,
      "outputs": []
    },
    {
      "cell_type": "code",
      "source": [
        "MSE = metrics.mean_squared_error(y_test,y_pred)\n",
        "MSE"
      ],
      "metadata": {
        "colab": {
          "base_uri": "https://localhost:8080/"
        },
        "id": "FkF7QM7ys8Rv",
        "outputId": "3d534c98-11e0-4547-afd8-1190c4fef9d9"
      },
      "execution_count": null,
      "outputs": [
        {
          "output_type": "execute_result",
          "data": {
            "text/plain": [
              "0.43067894973750354"
            ]
          },
          "metadata": {},
          "execution_count": 153
        }
      ]
    },
    {
      "cell_type": "code",
      "source": [
        "r2 = metrics.r2_score(y_test,y_pred)\n",
        "r2"
      ],
      "metadata": {
        "colab": {
          "base_uri": "https://localhost:8080/"
        },
        "id": "tZmuWDCrs8UP",
        "outputId": "b86a3877-1d5d-4e4d-b72a-b83c6617a6e4"
      },
      "execution_count": null,
      "outputs": [
        {
          "output_type": "execute_result",
          "data": {
            "text/plain": [
              "0.37990181096068953"
            ]
          },
          "metadata": {},
          "execution_count": 154
        }
      ]
    },
    {
      "cell_type": "code",
      "source": [],
      "metadata": {
        "id": "yxapxpwXs8W4"
      },
      "execution_count": null,
      "outputs": []
    },
    {
      "cell_type": "code",
      "source": [],
      "metadata": {
        "id": "Qbq0qsm3s8Zo"
      },
      "execution_count": null,
      "outputs": []
    },
    {
      "cell_type": "code",
      "source": [],
      "metadata": {
        "id": "IcTb6C9ys8c8"
      },
      "execution_count": null,
      "outputs": []
    },
    {
      "cell_type": "code",
      "source": [],
      "metadata": {
        "id": "qWnxFpJfrd62"
      },
      "execution_count": null,
      "outputs": []
    }
  ]
}